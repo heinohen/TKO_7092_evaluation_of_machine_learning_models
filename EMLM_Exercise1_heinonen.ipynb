{
  "cells": [
    {
      "cell_type": "markdown",
      "metadata": {
        "id": "view-in-github",
        "colab_type": "text"
      },
      "source": [
        "<a href=\"https://colab.research.google.com/github/heinohen/TKO_7092_evaluation_of_machine_learning_models/blob/main/EMLM_Exercise1_heinonen.ipynb\" target=\"_parent\"><img src=\"https://colab.research.google.com/assets/colab-badge.svg\" alt=\"Open In Colab\"/></a>"
      ]
    },
    {
      "cell_type": "markdown",
      "metadata": {
        "id": "23ChTSiWEb2g"
      },
      "source": [
        "* Henrik Heinonen\n",
        "* HIDDEN\n",
        "* 2025-01-30\n",
        "\n"
      ]
    },
    {
      "cell_type": "markdown",
      "metadata": {
        "id": "MXuc0IIqEb2j"
      },
      "source": [
        "# Exercise 1 | TKO_7092 Evaluation of Machine Learning Methods 2025"
      ]
    },
    {
      "cell_type": "markdown",
      "metadata": {
        "id": "o4tS8JMLEb2k"
      },
      "source": [
        "##### Prediction of the metal ion content from multi-parameter data\n",
        "<b> Use K-Nearest Neighbor Regression with euclidean distance to predict total metal concentration (c_total), concentration of Cadmium (Cd) and concentration of Lead (Pb), using number of neighbors k = 1, 3, 5, 7.</b>\n",
        "\n",
        "    - You may use Nearest Neighbor Regression from https://scikit-learn.org/stable/modules/neighbors.html   \n",
        "    - Implement Leave-One-Out cross-validation and calculate the C-index for each output (c_total, Cd, Pb).\n",
        "    - Implement Leave-Replicas-Out cross-validation and calculate the C-index for each output (c_total, Cd, Pb).\n",
        "    - Return your solution as a Jupyter Notebook .ipynb notebook and as a PDF-file made from it. Please, add your full name to the file name.\n",
        "    - The exercise will be graded by a maximum of 2 points.\n",
        "    - Submit to moodle your solution on ** Wednesday 5 of February ** at the latest.\n",
        "  \n",
        "<b>Please be aware that you are required to submit your individual solution.<br>\n",
        "Submissions with identical or similar code will result in a failure for the exercise.</b>"
      ]
    },
    {
      "cell_type": "markdown",
      "source": [
        "## Google drive mount\n",
        "\n",
        "I run these exercises at Google colab as my own computer is so bad that it might not even run all ML stuff."
      ],
      "metadata": {
        "id": "stRnGL4sGD_s"
      }
    },
    {
      "cell_type": "code",
      "source": [
        "from google.colab import drive\n",
        "drive.mount('/content/drive')"
      ],
      "metadata": {
        "colab": {
          "base_uri": "https://localhost:8080/"
        },
        "id": "Pz1kEqwXE58X",
        "outputId": "9736fcd8-9ea5-45b3-b0d8-0cd2ff42f401"
      },
      "execution_count": null,
      "outputs": [
        {
          "output_type": "stream",
          "name": "stdout",
          "text": [
            "Mounted at /content/drive\n"
          ]
        }
      ]
    },
    {
      "cell_type": "markdown",
      "metadata": {
        "id": "L2eTzM58Eb2l"
      },
      "source": [
        "## Import libraries"
      ]
    },
    {
      "cell_type": "code",
      "execution_count": null,
      "metadata": {
        "tags": [],
        "id": "LpoSuJgeEb2m"
      },
      "outputs": [],
      "source": [
        "# In this cell import all libraries you need. For example:\n",
        "import numpy as np\n",
        "import pandas as pd\n",
        "from scipy.stats import somersd\n",
        "from sklearn.model_selection import LeaveOneOut, LeaveOneGroupOut\n",
        "from sklearn.neighbors import KNeighborsRegressor\n",
        "import matplotlib.pyplot as plt"
      ]
    },
    {
      "cell_type": "markdown",
      "metadata": {
        "id": "6sFiaQjiEb2o"
      },
      "source": [
        "## Read and visualize the dataset"
      ]
    },
    {
      "cell_type": "markdown",
      "metadata": {
        "jp-MarkdownHeadingCollapsed": true,
        "id": "TqvVIBUOEb2p"
      },
      "source": [
        "<p> <b>Note:</b> This dataset differs slightly from the one used in the video lectures. <br>\n",
        "<b>In this dataset, some mixtures have 3 replicas, while others have 4 replicas. </b> </p>\n",
        "\n",
        "In the following cell:\n",
        "- Read the file water_data.csv\n",
        "- Print the dimesions of the dataset (i.e. number of rows and columns) and display the first 5 rows.\n",
        "- Identify the inputs and the outputs columns.\n",
        "- Provide the number of mixtures with 3 replicas and 4 replicas, respectively."
      ]
    },
    {
      "cell_type": "code",
      "execution_count": null,
      "metadata": {
        "tags": [],
        "id": "i9GaS_DoEb2p"
      },
      "outputs": [],
      "source": [
        "# Read the file water_data.csv\n",
        "df = pd.read_csv('/content/drive/MyDrive/datasets/water_data.csv')"
      ]
    },
    {
      "cell_type": "code",
      "source": [
        "# Print the dimesions of the dataset (i.e. number of rows and columns) and display the first 5 rows.\n",
        "print(f'Rows: {df.shape[0]}, Colums: {df.shape[1]}')\n",
        "df.head(5)"
      ],
      "metadata": {
        "colab": {
          "base_uri": "https://localhost:8080/",
          "height": 223
        },
        "id": "IY8SadyVFjba",
        "outputId": "ae67e36b-5e19-4d69-ff81-d9eb1e691c62"
      },
      "execution_count": null,
      "outputs": [
        {
          "output_type": "stream",
          "name": "stdout",
          "text": [
            "Rows: 225, Colums: 6\n"
          ]
        },
        {
          "output_type": "execute_result",
          "data": {
            "text/plain": [
              "   c_total   Cd    Pb      Mod1      Mod2      Mod3\n",
              "0      0.0  0.0   0.0 -0.999216 -0.714208 -0.414911\n",
              "1      0.0  0.0   0.0 -0.990800 -0.714373 -0.238335\n",
              "2      0.0  0.0   0.0 -0.990539 -0.714125  0.020788\n",
              "3     14.0  0.0  14.0 -1.001247 -0.713546  0.945465\n",
              "4     14.0  0.0  14.0 -1.013727 -0.714125  0.569631"
            ],
            "text/html": [
              "\n",
              "  <div id=\"df-8d08757e-6c4c-49cc-8f58-9ee3c42c3d88\" class=\"colab-df-container\">\n",
              "    <div>\n",
              "<style scoped>\n",
              "    .dataframe tbody tr th:only-of-type {\n",
              "        vertical-align: middle;\n",
              "    }\n",
              "\n",
              "    .dataframe tbody tr th {\n",
              "        vertical-align: top;\n",
              "    }\n",
              "\n",
              "    .dataframe thead th {\n",
              "        text-align: right;\n",
              "    }\n",
              "</style>\n",
              "<table border=\"1\" class=\"dataframe\">\n",
              "  <thead>\n",
              "    <tr style=\"text-align: right;\">\n",
              "      <th></th>\n",
              "      <th>c_total</th>\n",
              "      <th>Cd</th>\n",
              "      <th>Pb</th>\n",
              "      <th>Mod1</th>\n",
              "      <th>Mod2</th>\n",
              "      <th>Mod3</th>\n",
              "    </tr>\n",
              "  </thead>\n",
              "  <tbody>\n",
              "    <tr>\n",
              "      <th>0</th>\n",
              "      <td>0.0</td>\n",
              "      <td>0.0</td>\n",
              "      <td>0.0</td>\n",
              "      <td>-0.999216</td>\n",
              "      <td>-0.714208</td>\n",
              "      <td>-0.414911</td>\n",
              "    </tr>\n",
              "    <tr>\n",
              "      <th>1</th>\n",
              "      <td>0.0</td>\n",
              "      <td>0.0</td>\n",
              "      <td>0.0</td>\n",
              "      <td>-0.990800</td>\n",
              "      <td>-0.714373</td>\n",
              "      <td>-0.238335</td>\n",
              "    </tr>\n",
              "    <tr>\n",
              "      <th>2</th>\n",
              "      <td>0.0</td>\n",
              "      <td>0.0</td>\n",
              "      <td>0.0</td>\n",
              "      <td>-0.990539</td>\n",
              "      <td>-0.714125</td>\n",
              "      <td>0.020788</td>\n",
              "    </tr>\n",
              "    <tr>\n",
              "      <th>3</th>\n",
              "      <td>14.0</td>\n",
              "      <td>0.0</td>\n",
              "      <td>14.0</td>\n",
              "      <td>-1.001247</td>\n",
              "      <td>-0.713546</td>\n",
              "      <td>0.945465</td>\n",
              "    </tr>\n",
              "    <tr>\n",
              "      <th>4</th>\n",
              "      <td>14.0</td>\n",
              "      <td>0.0</td>\n",
              "      <td>14.0</td>\n",
              "      <td>-1.013727</td>\n",
              "      <td>-0.714125</td>\n",
              "      <td>0.569631</td>\n",
              "    </tr>\n",
              "  </tbody>\n",
              "</table>\n",
              "</div>\n",
              "    <div class=\"colab-df-buttons\">\n",
              "\n",
              "  <div class=\"colab-df-container\">\n",
              "    <button class=\"colab-df-convert\" onclick=\"convertToInteractive('df-8d08757e-6c4c-49cc-8f58-9ee3c42c3d88')\"\n",
              "            title=\"Convert this dataframe to an interactive table.\"\n",
              "            style=\"display:none;\">\n",
              "\n",
              "  <svg xmlns=\"http://www.w3.org/2000/svg\" height=\"24px\" viewBox=\"0 -960 960 960\">\n",
              "    <path d=\"M120-120v-720h720v720H120Zm60-500h600v-160H180v160Zm220 220h160v-160H400v160Zm0 220h160v-160H400v160ZM180-400h160v-160H180v160Zm440 0h160v-160H620v160ZM180-180h160v-160H180v160Zm440 0h160v-160H620v160Z\"/>\n",
              "  </svg>\n",
              "    </button>\n",
              "\n",
              "  <style>\n",
              "    .colab-df-container {\n",
              "      display:flex;\n",
              "      gap: 12px;\n",
              "    }\n",
              "\n",
              "    .colab-df-convert {\n",
              "      background-color: #E8F0FE;\n",
              "      border: none;\n",
              "      border-radius: 50%;\n",
              "      cursor: pointer;\n",
              "      display: none;\n",
              "      fill: #1967D2;\n",
              "      height: 32px;\n",
              "      padding: 0 0 0 0;\n",
              "      width: 32px;\n",
              "    }\n",
              "\n",
              "    .colab-df-convert:hover {\n",
              "      background-color: #E2EBFA;\n",
              "      box-shadow: 0px 1px 2px rgba(60, 64, 67, 0.3), 0px 1px 3px 1px rgba(60, 64, 67, 0.15);\n",
              "      fill: #174EA6;\n",
              "    }\n",
              "\n",
              "    .colab-df-buttons div {\n",
              "      margin-bottom: 4px;\n",
              "    }\n",
              "\n",
              "    [theme=dark] .colab-df-convert {\n",
              "      background-color: #3B4455;\n",
              "      fill: #D2E3FC;\n",
              "    }\n",
              "\n",
              "    [theme=dark] .colab-df-convert:hover {\n",
              "      background-color: #434B5C;\n",
              "      box-shadow: 0px 1px 3px 1px rgba(0, 0, 0, 0.15);\n",
              "      filter: drop-shadow(0px 1px 2px rgba(0, 0, 0, 0.3));\n",
              "      fill: #FFFFFF;\n",
              "    }\n",
              "  </style>\n",
              "\n",
              "    <script>\n",
              "      const buttonEl =\n",
              "        document.querySelector('#df-8d08757e-6c4c-49cc-8f58-9ee3c42c3d88 button.colab-df-convert');\n",
              "      buttonEl.style.display =\n",
              "        google.colab.kernel.accessAllowed ? 'block' : 'none';\n",
              "\n",
              "      async function convertToInteractive(key) {\n",
              "        const element = document.querySelector('#df-8d08757e-6c4c-49cc-8f58-9ee3c42c3d88');\n",
              "        const dataTable =\n",
              "          await google.colab.kernel.invokeFunction('convertToInteractive',\n",
              "                                                    [key], {});\n",
              "        if (!dataTable) return;\n",
              "\n",
              "        const docLinkHtml = 'Like what you see? Visit the ' +\n",
              "          '<a target=\"_blank\" href=https://colab.research.google.com/notebooks/data_table.ipynb>data table notebook</a>'\n",
              "          + ' to learn more about interactive tables.';\n",
              "        element.innerHTML = '';\n",
              "        dataTable['output_type'] = 'display_data';\n",
              "        await google.colab.output.renderOutput(dataTable, element);\n",
              "        const docLink = document.createElement('div');\n",
              "        docLink.innerHTML = docLinkHtml;\n",
              "        element.appendChild(docLink);\n",
              "      }\n",
              "    </script>\n",
              "  </div>\n",
              "\n",
              "\n",
              "<div id=\"df-953377e9-e467-4a45-8e92-04b8a91cd198\">\n",
              "  <button class=\"colab-df-quickchart\" onclick=\"quickchart('df-953377e9-e467-4a45-8e92-04b8a91cd198')\"\n",
              "            title=\"Suggest charts\"\n",
              "            style=\"display:none;\">\n",
              "\n",
              "<svg xmlns=\"http://www.w3.org/2000/svg\" height=\"24px\"viewBox=\"0 0 24 24\"\n",
              "     width=\"24px\">\n",
              "    <g>\n",
              "        <path d=\"M19 3H5c-1.1 0-2 .9-2 2v14c0 1.1.9 2 2 2h14c1.1 0 2-.9 2-2V5c0-1.1-.9-2-2-2zM9 17H7v-7h2v7zm4 0h-2V7h2v10zm4 0h-2v-4h2v4z\"/>\n",
              "    </g>\n",
              "</svg>\n",
              "  </button>\n",
              "\n",
              "<style>\n",
              "  .colab-df-quickchart {\n",
              "      --bg-color: #E8F0FE;\n",
              "      --fill-color: #1967D2;\n",
              "      --hover-bg-color: #E2EBFA;\n",
              "      --hover-fill-color: #174EA6;\n",
              "      --disabled-fill-color: #AAA;\n",
              "      --disabled-bg-color: #DDD;\n",
              "  }\n",
              "\n",
              "  [theme=dark] .colab-df-quickchart {\n",
              "      --bg-color: #3B4455;\n",
              "      --fill-color: #D2E3FC;\n",
              "      --hover-bg-color: #434B5C;\n",
              "      --hover-fill-color: #FFFFFF;\n",
              "      --disabled-bg-color: #3B4455;\n",
              "      --disabled-fill-color: #666;\n",
              "  }\n",
              "\n",
              "  .colab-df-quickchart {\n",
              "    background-color: var(--bg-color);\n",
              "    border: none;\n",
              "    border-radius: 50%;\n",
              "    cursor: pointer;\n",
              "    display: none;\n",
              "    fill: var(--fill-color);\n",
              "    height: 32px;\n",
              "    padding: 0;\n",
              "    width: 32px;\n",
              "  }\n",
              "\n",
              "  .colab-df-quickchart:hover {\n",
              "    background-color: var(--hover-bg-color);\n",
              "    box-shadow: 0 1px 2px rgba(60, 64, 67, 0.3), 0 1px 3px 1px rgba(60, 64, 67, 0.15);\n",
              "    fill: var(--button-hover-fill-color);\n",
              "  }\n",
              "\n",
              "  .colab-df-quickchart-complete:disabled,\n",
              "  .colab-df-quickchart-complete:disabled:hover {\n",
              "    background-color: var(--disabled-bg-color);\n",
              "    fill: var(--disabled-fill-color);\n",
              "    box-shadow: none;\n",
              "  }\n",
              "\n",
              "  .colab-df-spinner {\n",
              "    border: 2px solid var(--fill-color);\n",
              "    border-color: transparent;\n",
              "    border-bottom-color: var(--fill-color);\n",
              "    animation:\n",
              "      spin 1s steps(1) infinite;\n",
              "  }\n",
              "\n",
              "  @keyframes spin {\n",
              "    0% {\n",
              "      border-color: transparent;\n",
              "      border-bottom-color: var(--fill-color);\n",
              "      border-left-color: var(--fill-color);\n",
              "    }\n",
              "    20% {\n",
              "      border-color: transparent;\n",
              "      border-left-color: var(--fill-color);\n",
              "      border-top-color: var(--fill-color);\n",
              "    }\n",
              "    30% {\n",
              "      border-color: transparent;\n",
              "      border-left-color: var(--fill-color);\n",
              "      border-top-color: var(--fill-color);\n",
              "      border-right-color: var(--fill-color);\n",
              "    }\n",
              "    40% {\n",
              "      border-color: transparent;\n",
              "      border-right-color: var(--fill-color);\n",
              "      border-top-color: var(--fill-color);\n",
              "    }\n",
              "    60% {\n",
              "      border-color: transparent;\n",
              "      border-right-color: var(--fill-color);\n",
              "    }\n",
              "    80% {\n",
              "      border-color: transparent;\n",
              "      border-right-color: var(--fill-color);\n",
              "      border-bottom-color: var(--fill-color);\n",
              "    }\n",
              "    90% {\n",
              "      border-color: transparent;\n",
              "      border-bottom-color: var(--fill-color);\n",
              "    }\n",
              "  }\n",
              "</style>\n",
              "\n",
              "  <script>\n",
              "    async function quickchart(key) {\n",
              "      const quickchartButtonEl =\n",
              "        document.querySelector('#' + key + ' button');\n",
              "      quickchartButtonEl.disabled = true;  // To prevent multiple clicks.\n",
              "      quickchartButtonEl.classList.add('colab-df-spinner');\n",
              "      try {\n",
              "        const charts = await google.colab.kernel.invokeFunction(\n",
              "            'suggestCharts', [key], {});\n",
              "      } catch (error) {\n",
              "        console.error('Error during call to suggestCharts:', error);\n",
              "      }\n",
              "      quickchartButtonEl.classList.remove('colab-df-spinner');\n",
              "      quickchartButtonEl.classList.add('colab-df-quickchart-complete');\n",
              "    }\n",
              "    (() => {\n",
              "      let quickchartButtonEl =\n",
              "        document.querySelector('#df-953377e9-e467-4a45-8e92-04b8a91cd198 button');\n",
              "      quickchartButtonEl.style.display =\n",
              "        google.colab.kernel.accessAllowed ? 'block' : 'none';\n",
              "    })();\n",
              "  </script>\n",
              "</div>\n",
              "\n",
              "    </div>\n",
              "  </div>\n"
            ],
            "application/vnd.google.colaboratory.intrinsic+json": {
              "type": "dataframe",
              "variable_name": "df",
              "summary": "{\n  \"name\": \"df\",\n  \"rows\": 225,\n  \"fields\": [\n    {\n      \"column\": \"c_total\",\n      \"properties\": {\n        \"dtype\": \"number\",\n        \"std\": 1378.8950269535173,\n        \"min\": 0.0,\n        \"max\": 5000.0,\n        \"num_unique_values\": 12,\n        \"samples\": [\n          2000.0,\n          1000.0,\n          0.0\n        ],\n        \"semantic_type\": \"\",\n        \"description\": \"\"\n      }\n    },\n    {\n      \"column\": \"Cd\",\n      \"properties\": {\n        \"dtype\": \"number\",\n        \"std\": 871.5883177936045,\n        \"min\": 0.0,\n        \"max\": 5000.0,\n        \"num_unique_values\": 40,\n        \"samples\": [\n          42.0,\n          30.0,\n          10.0\n        ],\n        \"semantic_type\": \"\",\n        \"description\": \"\"\n      }\n    },\n    {\n      \"column\": \"Pb\",\n      \"properties\": {\n        \"dtype\": \"number\",\n        \"std\": 871.5883177936045,\n        \"min\": 0.0,\n        \"max\": 5000.0,\n        \"num_unique_values\": 40,\n        \"samples\": [\n          70.0,\n          40.0,\n          50.0\n        ],\n        \"semantic_type\": \"\",\n        \"description\": \"\"\n      }\n    },\n    {\n      \"column\": \"Mod1\",\n      \"properties\": {\n        \"dtype\": \"number\",\n        \"std\": 1.0022296571715912,\n        \"min\": -1.0194910068688894,\n        \"max\": 1.949547973137399,\n        \"num_unique_values\": 218,\n        \"samples\": [\n          1.3804326316135531,\n          -0.8722409561350648,\n          1.7116902046283913\n        ],\n        \"semantic_type\": \"\",\n        \"description\": \"\"\n      }\n    },\n    {\n      \"column\": \"Mod2\",\n      \"properties\": {\n        \"dtype\": \"number\",\n        \"std\": 1.0022296571715912,\n        \"min\": -0.7156957249357815,\n        \"max\": 2.786907628853996,\n        \"num_unique_values\": 211,\n        \"samples\": [\n          -0.7006485442349732,\n          0.3802681617120949,\n          2.2589334752531096\n        ],\n        \"semantic_type\": \"\",\n        \"description\": \"\"\n      }\n    },\n    {\n      \"column\": \"Mod3\",\n      \"properties\": {\n        \"dtype\": \"number\",\n        \"std\": 1.0022296571715914,\n        \"min\": -1.5793984253870352,\n        \"max\": 2.102618358683076,\n        \"num_unique_values\": 225,\n        \"samples\": [\n          -0.1569496088328168,\n          -1.0200856239169824,\n          0.5873517245898188\n        ],\n        \"semantic_type\": \"\",\n        \"description\": \"\"\n      }\n    }\n  ]\n}"
            }
          },
          "metadata": {},
          "execution_count": 4
        }
      ]
    },
    {
      "cell_type": "code",
      "source": [
        "# Identify the inputs and the outputs columns.\n",
        "\n",
        "# input columns are (Mod1, Mod2, Mod3)\n",
        "# output columns are (c_total, Cd, Pb)"
      ],
      "metadata": {
        "id": "rj95RjrWJzbc"
      },
      "execution_count": null,
      "outputs": []
    },
    {
      "cell_type": "code",
      "source": [
        "inputs = [\n",
        "    'Mod1',\n",
        "    'Mod2',\n",
        "    'Mod3'\n",
        "]\n",
        "\n",
        "outputs = [\n",
        "    'c_total',\n",
        "    'Cd',\n",
        "    'Pb'\n",
        "]"
      ],
      "metadata": {
        "id": "6dfYymPyULut"
      },
      "execution_count": null,
      "outputs": []
    },
    {
      "cell_type": "code",
      "source": [
        "# Create a 'tag' column based on groups with identical c_total, Cd, and Pb values\n",
        "df['tag'] = df.groupby(outputs).ngroup() # https://pandas.pydata.org/docs/reference/api/pandas.core.groupby.DataFrameGroupBy.ngroup.html\n",
        "print(df.head(5), end = \"\\n\\n\")\n",
        "counts = df['tag'].value_counts()\n",
        "print(counts.head(5), end = \"\\n\\n\")\n",
        "print(f'count of all groups: {len(counts)}', end=\"\\n\\n\")\n",
        "print(\"Provide the number of mixtures with 3 replicas and 4 replicas, respectively.\")\n",
        "print(f'count of groups with 3 replicates: {len(counts[counts == 3])}')\n",
        "print(f'count of groups with 4 replicates: {len(counts[counts == 4])}')\n",
        "print(f'{len(counts[counts == 3])} + {len(counts[counts == 4])} = {len(counts[counts == 3]) + len(counts[counts == 4])}')"
      ],
      "metadata": {
        "colab": {
          "base_uri": "https://localhost:8080/"
        },
        "id": "WWaHsULLeAYv",
        "outputId": "3f5ed37c-4904-4f73-ca53-b2a8c2cc1743"
      },
      "execution_count": null,
      "outputs": [
        {
          "output_type": "stream",
          "name": "stdout",
          "text": [
            "   c_total   Cd    Pb      Mod1      Mod2      Mod3  tag\n",
            "0      0.0  0.0   0.0 -0.999216 -0.714208 -0.414911    0\n",
            "1      0.0  0.0   0.0 -0.990800 -0.714373 -0.238335    0\n",
            "2      0.0  0.0   0.0 -0.990539 -0.714125  0.020788    0\n",
            "3     14.0  0.0  14.0 -1.001247 -0.713546  0.945465    1\n",
            "4     14.0  0.0  14.0 -1.013727 -0.714125  0.569631    1\n",
            "\n",
            "tag\n",
            "33    4\n",
            "32    4\n",
            "24    4\n",
            "25    4\n",
            "26    4\n",
            "Name: count, dtype: int64\n",
            "\n",
            "count of all groups: 67\n",
            "\n",
            "Provide the number of mixtures with 3 replicas and 4 replicas, respectively.\n",
            "count of groups with 3 replicates: 43\n",
            "count of groups with 4 replicates: 24\n",
            "43 + 24 = 67\n"
          ]
        }
      ]
    },
    {
      "cell_type": "markdown",
      "metadata": {
        "id": "pkqnbPVlEb2r"
      },
      "source": [
        "## C-index code"
      ]
    },
    {
      "cell_type": "code",
      "execution_count": null,
      "metadata": {
        "id": "6h8EmykSEb2t"
      },
      "outputs": [],
      "source": [
        "# In this cell is the fuction that computes the c-index value based on Somers'D statistic.\n",
        "# Use this fuction as the evaluation metric in the Leave-One-Out (LOOCV) and Leave-Replicas-Out (LROCV) cross-validation methods.\n",
        "\n",
        "# notes:\n",
        "# this seems to only accept the whole prediction vectors and not individual rows so i have to make splits for the leaveoneout manually?\n",
        "# https://docs.scipy.org/doc/scipy/reference/generated/scipy.stats.somersd.html\n",
        "\n",
        "def cindex(true, pred):\n",
        "  \"\"\"\n",
        "Parameters\n",
        "----------\n",
        "true : array_like\n",
        "    1D array of rankings, treated as the (row) independent variable. Alternatively, a 2D contingency table.\n",
        "pred : array_like, optional\n",
        "    If x is a 1D array of rankings, y is a 1D array of rankings of the same length, treated as the (column) dependent variable. If x is 2D, y is ignored.\n",
        "\"\"\"\n",
        "  s_d = somersd(true, y=pred, alternative='two-sided')\n",
        "  c_index = (s_d.statistic + 1.0)/2.0\n",
        "  return c_index"
      ]
    },
    {
      "cell_type": "markdown",
      "metadata": {
        "id": "rRhVdIkLEb2u"
      },
      "source": [
        "## Functions"
      ]
    },
    {
      "cell_type": "markdown",
      "metadata": {
        "id": "oJ-ibfB-Eb2v"
      },
      "source": [
        "## Results for Leave-One-Out cross-validation"
      ]
    },
    {
      "cell_type": "code",
      "source": [
        "# PLAN\n",
        "\n",
        "# testing with knnregressor not working with usual knn = KNNeighborsRegressor(n_neighbors=5) and fit and use cross_val_score ==> returns nan's for somersd\n",
        "# scoring function accepts only arrays of equal length\n",
        "\n",
        "# SETUP\n",
        "loo = LeaveOneOut()\n",
        "k_array = [1, 3, 5, 7] # from the assignment\n",
        "\n",
        "loo_results = {} # this holds all of the results for all 3 outputs and 4 c_index_values for k=1,3,5,7\n",
        "\n",
        "X = df[inputs].values\n",
        "\n",
        "for o in outputs:\n",
        "  print(f'output == {o}')\n",
        "  individual_output_results = {}\n",
        "  y = df[o].values # target value\n",
        "  # FOR LOOP FOR THE KNN\n",
        "  for k in k_array:\n",
        "    print(f'k == {k}')\n",
        "    knn = KNeighborsRegressor(n_neighbors=k)\n",
        "\n",
        "    tvs = [] # true values\n",
        "    preds = [] # predictions\n",
        "\n",
        "\n",
        "    # # https://scikit-learn.org/dev/modules/generated/sklearn.model_selection.LeaveOneOut.html\n",
        "    #print(loo.get_n_splits(X))\n",
        "    #print(loo)\n",
        "\n",
        "    for i, (train_index, test_index) in enumerate(loo.split(X)):\n",
        "        #print(f\"Fold {i}:\")\n",
        "        #print(f\"  Train: index={X[train_index]}\") # from here we get the splitted indexes\n",
        "        #print(f\"  Test:  index={X[test_index]}\") # this is the individual test index\n",
        "        #print(f\"  Test:  index={y[train_index]}\") # this is the individual test index\n",
        "        #print(f\"  Test:  index={y[test_index]}\") # this is the individual test index\n",
        "        # Split data into training and testing sets\n",
        "        X_train, X_test = X[train_index], X[test_index]\n",
        "        y_train, y_test = y[train_index], y[test_index]\n",
        "\n",
        "        # train\n",
        "        knn.fit(X_train, y_train)\n",
        "\n",
        "        # predict\n",
        "        y_pred = knn.predict(X_test)\n",
        "\n",
        "        #print(f'TRUE TEST VALUE: {y_test[0]}')\n",
        "        tvs.append(y_test[0])\n",
        "        #print(f'PREDICTED VALUE: {y_pred[0]}')\n",
        "        preds.append(y_pred[0])\n",
        "\n",
        "    # call the custom scoring function\n",
        "    c_index_value = cindex(true=tvs, pred=preds)\n",
        "    print(f\"C-index value: {c_index_value}\")\n",
        "    individual_output_results[k] = c_index_value # store key: k, value: cindex\n",
        "\n",
        "  loo_results[o] = individual_output_results # store key: o, value is dict of key:k, value: cindex\n",
        "\n",
        "\n"
      ],
      "metadata": {
        "colab": {
          "base_uri": "https://localhost:8080/"
        },
        "id": "-opkUJ657Thy",
        "outputId": "8c82c27a-cd8c-4e13-b169-61cf446ff912"
      },
      "execution_count": null,
      "outputs": [
        {
          "output_type": "stream",
          "name": "stdout",
          "text": [
            "output == c_total\n",
            "k == 1\n",
            "C-index value: 0.9082833811137173\n",
            "k == 3\n",
            "C-index value: 0.9141907740422205\n",
            "k == 5\n",
            "C-index value: 0.8941012944140387\n",
            "k == 7\n",
            "C-index value: 0.8737294761532447\n",
            "output == Cd\n",
            "k == 1\n",
            "C-index value: 0.921869127656909\n",
            "k == 3\n",
            "C-index value: 0.8995907629348143\n",
            "k == 5\n",
            "C-index value: 0.8619660082682591\n",
            "k == 7\n",
            "C-index value: 0.8141520858562659\n",
            "output == Pb\n",
            "k == 1\n",
            "C-index value: 0.8805487117384223\n",
            "k == 3\n",
            "C-index value: 0.8744519146448406\n",
            "k == 5\n",
            "C-index value: 0.8542614941328768\n",
            "k == 7\n",
            "C-index value: 0.8355326345680043\n"
          ]
        }
      ]
    },
    {
      "cell_type": "markdown",
      "metadata": {
        "id": "z957TSDREb2w"
      },
      "source": [
        "## Results for Leave-Replicas-Out cross-validation"
      ]
    },
    {
      "cell_type": "code",
      "execution_count": null,
      "metadata": {
        "id": "qQAwdQZREb2x",
        "colab": {
          "base_uri": "https://localhost:8080/"
        },
        "outputId": "91a2e42e-e2d8-47e2-9482-3d8f785128d6"
      },
      "outputs": [
        {
          "output_type": "stream",
          "name": "stdout",
          "text": [
            "output == c_total\n",
            "k == 1\n",
            "C-index value: 0.8250244379276637\n",
            "k == 3\n",
            "C-index value: 0.8338220918866079\n",
            "k == 5\n",
            "C-index value: 0.8242913000977516\n",
            "k == 7\n",
            "C-index value: 0.8225806451612903\n",
            "output == Cd\n",
            "k == 1\n",
            "C-index value: 0.7921374764595104\n",
            "k == 3\n",
            "C-index value: 0.7631826741996234\n",
            "k == 5\n",
            "C-index value: 0.737758945386064\n",
            "k == 7\n",
            "C-index value: 0.7008003766478342\n",
            "output == Pb\n",
            "k == 1\n",
            "C-index value: 0.7540018832391714\n",
            "k == 3\n",
            "C-index value: 0.7688323917137476\n",
            "k == 5\n",
            "C-index value: 0.7645951035781544\n",
            "k == 7\n",
            "C-index value: 0.7796610169491525\n"
          ]
        }
      ],
      "source": [
        "# require data set containing non-independent replicates\n",
        "\n",
        "# ALGO from the lecture materials:\n",
        "\n",
        "# 1 Split the data into n_groups where a group is formed by all replicates\n",
        "# 2 for i = 1 to n_groups do:\n",
        "# 3   train model on all but the data_group[i]\n",
        "# 4   predict outpits for the data_group[i]\n",
        "# 5 calculate performance measure for true and predicted outputs\n",
        "\n",
        "\n",
        "\n",
        "# did not find a model for 'Leave-Replicas-Out', by definition this seemed closest:\n",
        "# https://scikit-learn.org/dev/modules/generated/sklearn.model_selection.LeaveOneGroupOut.html\n",
        "\n",
        "# SETUP\n",
        "log = LeaveOneGroupOut()\n",
        "log_results = {} # this holds all of the results for all 3 outputs and 4 c_index_values for k=1,3,5,7\n",
        "\n",
        "X = df[inputs].values\n",
        "#print(X)\n",
        "\n",
        "groups = df['tag'].values\n",
        "#print(groups)\n",
        "\n",
        "for o in outputs:\n",
        "  print(f'output == {o}')\n",
        "  individual_output_results = {}\n",
        "  y = df[o].values # target value\n",
        "  # FOR LOOP FOR THE KNN\n",
        "  for k in k_array:\n",
        "    print(f'k == {k}')\n",
        "    #model\n",
        "    knn = KNeighborsRegressor(n_neighbors=k)\n",
        "\n",
        "    tvs = [] # true values\n",
        "    preds = [] # predictions\n",
        "\n",
        "    # this needs to be one value array, so for loop before\n",
        "    y = df[o].values\n",
        "    #print(y)\n",
        "\n",
        "    #log.get_n_splits(groups=groups)\n",
        "    for i, (train_index, test_index) in enumerate(log.split(X,y,groups)):\n",
        "      #print(f\"Fold {i}:\")\n",
        "      #print(f\"  Train: index={train_index}, group={groups[train_index]}\")\n",
        "      #print(f\"  Test:  index={test_index}, group={groups[test_index]}\")\n",
        "      # split to train and test\n",
        "      X_train, X_test = X[train_index], X[test_index] # all 3 features\n",
        "      y_train, y_test = y[train_index], y[test_index] # 1 target\n",
        "\n",
        "      #print(y_train, y_test)\n",
        "\n",
        "      # train\n",
        "      knn.fit(X_train, y_train)\n",
        "\n",
        "      # predict\n",
        "      y_pred = knn.predict(X_test)\n",
        "\n",
        "      #print(f'TRUE TEST VALUE: {y_test[0]}')\n",
        "      tvs.append(y_test[0])\n",
        "      #print(f'PREDICTED VALUE: {y_pred[0]}')\n",
        "      preds.append(y_pred[0])\n",
        "\n",
        "    # call the custom scoring function\n",
        "    c_index_value = cindex(true=tvs, pred=preds)\n",
        "    print(f\"C-index value: {c_index_value}\")\n",
        "    individual_output_results[k] = c_index_value # store key: k, value: cindex\n",
        "  log_results[o] = individual_output_results # store key: o, value is dict of key:k, value: cindex\n",
        "\n"
      ]
    },
    {
      "cell_type": "markdown",
      "metadata": {
        "id": "G6y0LcNPEb2x"
      },
      "source": [
        "## Plot Leave-One-Out and Leave-Replicas-Out Results"
      ]
    },
    {
      "cell_type": "markdown",
      "metadata": {
        "id": "0bsd4nj3Eb2x"
      },
      "source": [
        "Note: You may plot the results as they were presented in the video lecture (refer to MOOC2-Module 2 .pptx slides)."
      ]
    },
    {
      "cell_type": "code",
      "execution_count": null,
      "metadata": {
        "id": "3Ty_z0n7Eb2y",
        "colab": {
          "base_uri": "https://localhost:8080/",
          "height": 517
        },
        "outputId": "4e7d8bea-9c81-4867-d18e-9e52924caf0d"
      },
      "outputs": [
        {
          "output_type": "display_data",
          "data": {
            "text/plain": [
              "<Figure size 1800x600 with 3 Axes>"
            ],
            "image/png": "[encoded data removed]"
          },
          "metadata": {}
        }
      ],
      "source": [
        "fig, axes = plt.subplots(1, 3, figsize=(18, 6)) #figures, 1 row, 3 subplots\n",
        "fig.suptitle(\"C-index for K-Nearest Neigbors\", fontsize=16) # header\n",
        "\n",
        "labels = [\"Leave-One-Out\", \"Leave-One-Group-Out\"]\n",
        "\n",
        "for i, ax in enumerate(axes): # use loop to generate plots\n",
        "  #plan\n",
        "  # 1: get by output[i] the key to extract values from loo_results and log_results\n",
        "  #print(outputs[i])\n",
        "  o = outputs[i]\n",
        "  loo_one_variable = loo_results[outputs[i]]\n",
        "  log_one_variable = log_results[outputs[i]]\n",
        "\n",
        "  # as list to use in y variable\n",
        "  loo_values = list(loo_one_variable.values())\n",
        "  log_values = list(log_one_variable.values())\n",
        "\n",
        "  # x in the plot is the k_array values, k = 1,3,5,7\n",
        "  ax.plot(k_array, loo_values, color='blue', label=labels[0])  # plot loo\n",
        "  ax.plot(k_array, log_values, color='orange', label=labels[1])   # plot log\n",
        "  ax.set_ylim(0,1.05) # set ylim to go above 1.0 to leave room\n",
        "  ax.set_xticks(k_array) # set xticks to resemble the moodle material\n",
        "  ax.set_ylabel(\"C-index\") # set ylabel to resemble the moodle material\n",
        "  ax.set_yticks(np.arange(0, 1.1, 0.1))  # set yticks, start at 0, end at 1, with step 0.1\n",
        "  ax.set_title(f'{o}') # set title to resemble the moodle material\n",
        "\n",
        "handles, labels = axes[0].get_legend_handles_labels() # https://matplotlib.org/stable/users/explain/axes/legend_guide.html#sphx-glr-users-explain-axes-legend-guide-py\n",
        "fig.legend(handles, labels, loc='upper right', bbox_to_anchor=(0.9, 1), ncol=2) # generates legend with handles and labels bboxed to (x,y) \"top right\", ncol=2 makes sidebyside\n",
        "plt.show()\n"
      ]
    },
    {
      "cell_type": "markdown",
      "metadata": {
        "id": "WOQ6kI23Eb2y"
      },
      "source": [
        "## Interpretation of results\n",
        "#### Answer the following questions based on the results obtained\n",
        "1. Which cross-validation approach produced more optimistic results, and why?\n",
        "2. Which cross-validation method provides a better estimate of the model's performance on unseen mixtures? Explain your answer."
      ]
    },
    {
      "cell_type": "markdown",
      "metadata": {
        "id": "vu64CXdHEb2y"
      },
      "source": [
        "#### Answers:\n",
        "\n",
        "1. Leave-One-Out seems to hold the performance better with such a small data set but seems to decrease in performance level when k-count increases. i would assume that if we had more data the leave-one-out would bear a higher risk of overfitting as the measurements are not independent.\n",
        "2. Leave-One-Group-Out holds the performance level better where Leave-One-Out seems to dip. This is due the training data not leaking into the evaluation set."
      ]
    },
    {
      "cell_type": "markdown",
      "source": [
        "### convert to pdf"
      ],
      "metadata": {
        "id": "qFWB8hieKm_O"
      }
    },
    {
      "cell_type": "code",
      "source": [
        "!apt-get -qq install texlive texlive-xetex texlive-latex-extra pandoc &> ~/apt-log.txt # to hide the output\n",
        "!pip3 install -q pypandoc\n",
        "\n",
        "!cp drive/MyDrive/Colab\\ Notebooks/EMLM_Exercise1_heinonen.ipynb ./\n",
        "!jupyter nbconvert --to PDF \"EMLM_Exercise1_heinonen.ipynb\""
      ],
      "metadata": {
        "colab": {
          "base_uri": "https://localhost:8080/"
        },
        "id": "HB2isT4rKj8j",
        "outputId": "a8a994cc-e047-4231-bf35-90bc213a00c3"
      },
      "execution_count": null,
      "outputs": [
        {
          "output_type": "stream",
          "name": "stdout",
          "text": [
            "[NbConvertApp] Converting notebook EMLM_Exercise1_heinonen.ipynb to PDF\n",
            "[NbConvertApp] Support files will be in EMLM_Exercise1_heinonen_files/\n",
            "[NbConvertApp] Making directory ./EMLM_Exercise1_heinonen_files\n",
            "[NbConvertApp] Writing 51926 bytes to notebook.tex\n",
            "[NbConvertApp] Building PDF\n",
            "[NbConvertApp] Running xelatex 3 times: ['xelatex', 'notebook.tex', '-quiet']\n",
            "[NbConvertApp] Running bibtex 1 time: ['bibtex', 'notebook']\n",
            "[NbConvertApp] WARNING | bibtex had problems, most likely because there were no citations\n",
            "[NbConvertApp] PDF successfully created\n",
            "[NbConvertApp] Writing 101865 bytes to EMLM_Exercise1_heinonen.pdf\n"
          ]
        }
      ]
    }
  ],
  "metadata": {
    "kernelspec": {
      "display_name": "Python 3",
      "name": "python3"
    },
    "language_info": {
      "codemirror_mode": {
        "name": "ipython",
        "version": 3
      },
      "file_extension": ".py",
      "mimetype": "text/x-python",
      "name": "python",
      "nbconvert_exporter": "python",
      "pygments_lexer": "ipython3",
      "version": "3.9.21"
    },
    "toc": {
      "base_numbering": 1,
      "nav_menu": {},
      "number_sections": false,
      "sideBar": true,
      "skip_h1_title": false,
      "title_cell": "Table of Contents",
      "title_sidebar": "Contents",
      "toc_cell": false,
      "toc_position": {},
      "toc_section_display": true,
      "toc_window_display": true
    },
    "varInspector": {
      "cols": {
        "lenName": 16,
        "lenType": 16,
        "lenVar": 40
      },
      "kernels_config": {
        "python": {
          "delete_cmd_postfix": "",
          "delete_cmd_prefix": "del ",
          "library": "var_list.py",
          "varRefreshCmd": "print(var_dic_list())"
        },
        "r": {
          "delete_cmd_postfix": ") ",
          "delete_cmd_prefix": "rm(",
          "library": "var_list.r",
          "varRefreshCmd": "cat(var_dic_list()) "
        }
      },
      "types_to_exclude": [
        "module",
        "function",
        "builtin_function_or_method",
        "instance",
        "_Feature"
      ],
      "window_display": false
    },
    "colab": {
      "provenance": [],
      "include_colab_link": true
    }
  },
  "nbformat": 4,
  "nbformat_minor": 0
}